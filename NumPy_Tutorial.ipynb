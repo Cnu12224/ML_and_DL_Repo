{
  "cells": [
    {
      "cell_type": "markdown",
      "metadata": {},
      "source": [
        "# NumPy Tutorial\n",
        "\n",
        "Welcome! This notebook will take you from basic array creation to linear algebra, statistics, broadcasting, and performance tips.\n",
        "\n",
        "**Sections**\n",
        "1. Setup & quick intro\n",
        "2. Arrays & dtypes\n",
        "3. Creation routines\n",
        "4. Indexing, slicing, masking\n",
        "5. Vectorized ops & broadcasting\n",
        "6. Aggregations & statistics\n",
        "7. Linear algebra essentials\n",
        "8. Random module\n",
        "9. Reshaping, stacking, I/O\n",
        "10. Performance tips\n",
        "11. Exercises (with hints)\n"
      ]
    },
    {
      "cell_type": "markdown",
      "metadata": {},
      "source": [
        "## 1) Setup & quick intro\n",
        "NumPy is the fundamental package for scientific computing with Python. It provides:\n",
        "- `ndarray` (N-dimensional array)\n",
        "- fast vectorized operations\n",
        "- linear algebra, Fourier transform, random number capabilities"
      ]
    },
    {
      "cell_type": "code",
      "execution_count": null,
      "metadata": {},
      "outputs": [],
      "source": [
        "import numpy as np\n",
        "np.__version__"
      ]
    },
    {
      "cell_type": "markdown",
      "metadata": {},
      "source": [
        "## 2) Arrays & dtypes"
      ]
    },
    {
      "cell_type": "code",
      "execution_count": null,
      "metadata": {},
      "outputs": [],
      "source": [
        "# Python list vs NumPy array\n",
        "py_list = [1, 2, 3]\n",
        "arr = np.array(py_list)\n",
        "arr, type(arr), arr.dtype, arr.ndim, arr.shape"
      ]
    },
    {
      "cell_type": "code",
      "execution_count": null,
      "metadata": {},
      "outputs": [],
      "source": [
        "# dtype control\n",
        "arr_f32 = np.array([1, 2, 3], dtype=np.float32)\n",
        "arr_i64 = arr.astype(np.int64)\n",
        "arr_f32.dtype, arr_i64.dtype"
      ]
    },
    {
      "cell_type": "markdown",
      "metadata": {},
      "source": [
        "## 3) Creation routines"
      ]
    },
    {
      "cell_type": "code",
      "execution_count": null,
      "metadata": {},
      "outputs": [],
      "source": [
        "np.zeros((2,3)), np.ones((2,3)), np.full((2,3), 7)"
      ]
    },
    {
      "cell_type": "code",
      "execution_count": null,
      "metadata": {},
      "outputs": [],
      "source": [
        "np.arange(0, 10, 2), np.linspace(0, 1, 5)"
      ]
    },
    {
      "cell_type": "code",
      "execution_count": null,
      "metadata": {},
      "outputs": [],
      "source": [
        "np.eye(3), np.diag([1,2,3])"
      ]
    },
    {
      "cell_type": "markdown",
      "metadata": {},
      "source": [
        "## 4) Indexing, slicing, masking"
      ]
    },
    {
      "cell_type": "code",
      "execution_count": null,
      "metadata": {},
      "outputs": [],
      "source": [
        "A = np.arange(1,13).reshape(3,4)\n",
        "A, A[0, 0], A[1], A[:, 2]  # element, row, column"
      ]
    },
    {
      "cell_type": "code",
      "execution_count": null,
      "metadata": {},
      "outputs": [],
      "source": [
        "# Slicing gives views (not copies) when possible\n",
        "sub = A[:2, 1:3]\n",
        "sub[:] = -1  # modifies A as well\n",
        "A"
      ]
    },
    {
      "cell_type": "code",
      "execution_count": null,
      "metadata": {},
      "outputs": [],
      "source": [
        "# Boolean masking\n",
        "B = np.array([1, 3, 5, 2, 4, 6])\n",
        "mask = B % 2 == 0\n",
        "B[mask]"
      ]
    },
    {
      "cell_type": "markdown",
      "metadata": {},
      "source": [
        "## 5) Vectorized operations & broadcasting"
      ]
    },
    {
      "cell_type": "code",
      "execution_count": null,
      "metadata": {},
      "outputs": [],
      "source": [
        "x = np.array([1,2,3])\n",
        "y = np.array([10,20,30])\n",
        "x + y, x * y, y / x, x ** 2"
      ]
    },
    {
      "cell_type": "code",
      "execution_count": null,
      "metadata": {},
      "outputs": [],
      "source": [
        "# Broadcasting: shapes (3,) and (3,1) -> (3,3)\n",
        "a = np.array([1,2,3])\n",
        "b = np.array([[10],[20],[30]])\n",
        "a + b"
      ]
    },
    {
      "cell_type": "markdown",
      "metadata": {},
      "source": [
        "## 6) Aggregations & statistics"
      ]
    },
    {
      "cell_type": "code",
      "execution_count": null,
      "metadata": {},
      "outputs": [],
      "source": [
        "M = np.arange(1,10).reshape(3,3)\n",
        "M.sum(), M.mean(), M.std(), M.var(), M.min(), M.max()"
      ]
    },
    {
      "cell_type": "code",
      "execution_count": null,
      "metadata": {},
      "outputs": [],
      "source": [
        "# Axis-wise stats\n",
        "M.mean(axis=0), M.mean(axis=1)"
      ]
    },
    {
      "cell_type": "markdown",
      "metadata": {},
      "source": [
        "## 7) Linear algebra essentials"
      ]
    },
    {
      "cell_type": "code",
      "execution_count": null,
      "metadata": {},
      "outputs": [],
      "source": [
        "A = np.array([[1,2],[3,4]])\n",
        "B = np.array([[5,6],[7,8]])\n",
        "A @ B, np.dot(A, B), A.T"
      ]
    },
    {
      "cell_type": "code",
      "execution_count": null,
      "metadata": {},
      "outputs": [],
      "source": [
        "np.linalg.det(A), np.linalg.inv(A)"
      ]
    },
    {
      "cell_type": "code",
      "execution_count": null,
      "metadata": {},
      "outputs": [],
      "source": [
        "# Eigenvalues/eigenvectors and SVD\n",
        "w, V = np.linalg.eig(A)\n",
        "U, S, VT = np.linalg.svd(A)\n",
        "w, V, S"
      ]
    },
    {
      "cell_type": "markdown",
      "metadata": {},
      "source": [
        "## 8) Random module"
      ]
    },
    {
      "cell_type": "code",
      "execution_count": null,
      "metadata": {},
      "outputs": [],
      "source": [
        "rng = np.random.default_rng(42)\n",
        "rng.random((2,3)), rng.normal(0,1,(2,3)), rng.integers(0,10,(2,3))"
      ]
    },
    {
      "cell_type": "markdown",
      "metadata": {},
      "source": [
        "## 9) Reshaping, stacking, I/O"
      ]
    },
    {
      "cell_type": "code",
      "execution_count": null,
      "metadata": {},
      "outputs": [],
      "source": [
        "x = np.arange(12)\n",
        "x.reshape(3,4), x.reshape(-1, 6)  # -1 infers dimension"
      ]
    },
    {
      "cell_type": "code",
      "execution_count": null,
      "metadata": {},
      "outputs": [],
      "source": [
        "a = np.array([1,2,3])\n",
        "b = np.array([4,5,6])\n",
        "np.stack([a,b]), np.hstack([a,b]), np.vstack([a,b])"
      ]
    },
    {
      "cell_type": "code",
      "execution_count": null,
      "metadata": {},
      "outputs": [],
      "source": [
        "# Save/load arrays\n",
        "np.save('array.npy', M)\n",
        "loaded = np.load('array.npy')\n",
        "loaded"
      ]
    },
    {
      "cell_type": "markdown",
      "metadata": {},
      "source": [
        "## 10) Performance tips\n",
        "- Prefer **vectorized** NumPy operations over Python loops.\n",
        "- Use **broadcasting** to eliminate explicit loops.\n",
        "- Avoid unnecessary copies: understand when slicing returns a view.\n",
        "- Use `np.random.default_rng` for reproducibility.\n",
        "- For very large problems, look into **NumPy memory mapping**, **Numba**, or **CuPy**."
      ]
    },
    {
      "cell_type": "markdown",
      "metadata": {},
      "source": [
        "## 11) Exercises\n",
        "1. **Vector norms**: Write a function that computes L1 and L2 norms for a vector using NumPy.\n",
        "2. **Standardize columns**: Given a matrix `X`, return a standardized version with mean 0 and std 1 per column.\n",
        "3. **PCA toy**: Generate a 2D dataset with correlated features; subtract the mean, compute covariance matrix, eigen-decompose, and project onto the first principal component.\n",
        "4. **Convolution**: Implement a simple 2D convolution using `np.pad` and sliding windows (no SciPy)."
      ]
    },
    {
      "cell_type": "code",
      "execution_count": null,
      "metadata": {
        "exercise": true
      },
      "outputs": [],
      "source": [
        "# 1) Vector norms (L1 and L2) \u2014 Your turn\n",
        "import numpy as np\n",
        "v = np.array([3, -4, 12])\n",
        "## TODO: compute L1 and L2\n",
        "l1 = None  # replace\n",
        "l2 = None  # replace\n",
        "l1, l2"
      ]
    },
    {
      "cell_type": "code",
      "execution_count": null,
      "metadata": {
        "exercise": true
      },
      "outputs": [],
      "source": [
        "# 2) Standardize columns \u2014 Your turn\n",
        "X = np.arange(1,13).reshape(3,4).astype(float)\n",
        "## TODO: subtract column means and divide by column stds\n",
        "X_std = None  # replace\n",
        "X_std"
      ]
    },
    {
      "cell_type": "code",
      "execution_count": null,
      "metadata": {
        "exercise": true
      },
      "outputs": [],
      "source": [
        "# 3) PCA toy \u2014 Your turn\n",
        "rng = np.random.default_rng(0)\n",
        "x = rng.normal(size=200)\n",
        "y = 2*x + rng.normal(scale=0.3, size=200)\n",
        "X = np.c_[x, y]\n",
        "## TODO: center X, compute covariance, eigendecompose, project onto PC1\n",
        "X_centered = None\n",
        "cov = None\n",
        "eigvals = eigvecs = None\n",
        "X_pc1 = None\n",
        "X_centered, cov, eigvals, eigvecs, X_pc1"
      ]
    },
    {
      "cell_type": "code",
      "execution_count": null,
      "metadata": {
        "exercise": true
      },
      "outputs": [],
      "source": [
        "# 4) 2D convolution \u2014 Your turn\n",
        "image = np.arange(25).reshape(5,5)\n",
        "kernel = np.array([[1,0,-1],[1,0,-1],[1,0,-1]])\n",
        "## TODO: zero-pad and slide a 3x3 window over image to compute convolution\n",
        "conv = None\n",
        "conv"
      ]
    }
  ],
  "metadata": {
    "kernelspec": {
      "display_name": "Python 3",
      "language": "python",
      "name": "python3"
    },
    "language_info": {
      "name": "python",
      "version": "3.x",
      "mimetype": "text/x-python",
      "codemirror_mode": {
        "name": "ipython",
        "version": 3
      },
      "pygments_lexer": "ipython3",
      "nbconvert_exporter": "python",
      "file_extension": ".py"
    }
  },
  "nbformat": 4,
  "nbformat_minor": 5
}