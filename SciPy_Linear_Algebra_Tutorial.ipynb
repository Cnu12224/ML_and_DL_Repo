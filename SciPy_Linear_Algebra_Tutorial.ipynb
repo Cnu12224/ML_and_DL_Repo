{
  "cells": [
    {
      "cell_type": "markdown",
      "metadata": {},
      "source": [
        "# SciPy Linear Algebra Tutorial\n",
        "\n",
        "A practical tour of `scipy.linalg` (dense) and `scipy.sparse.linalg` (sparse),\n",
        "with examples, tips, and exercises.\n",
        "\n",
        "**Contents**\n",
        "1. Setup & imports\n",
        "2. Dense linear algebra basics (`scipy.linalg`)\n",
        "3. Matrix factorizations (LU / QR / Cholesky / SVD)\n",
        "4. Eigenvalues & eigenvectors (`eig`, `eigh`)\n",
        "5. Least squares & conditioning\n",
        "6. Matrix functions (`expm`, `logm`, `sqrtm`)\n",
        "7. Sparse matrices & solvers (`spsolve`, `cg`, `gmres`)\n",
        "8. Practical tips & pitfalls\n",
        "9. Exercises\n"
      ]
    },
    {
      "cell_type": "markdown",
      "metadata": {},
      "source": [
        "## 1) Setup & imports"
      ]
    },
    {
      "cell_type": "code",
      "execution_count": null,
      "metadata": {},
      "outputs": [],
      "source": [
        "import numpy as np\n",
        "from numpy.linalg import norm as np_norm\n",
        "import scipy\n",
        "from scipy import linalg as LA\n",
        "from scipy.sparse import csr_matrix, diags, random as sparse_random\n",
        "from scipy.sparse.linalg import spsolve, cg, gmres, eigs, eigsh\n",
        "scipy.__version__"
      ]
    },
    {
      "cell_type": "markdown",
      "metadata": {},
      "source": [
        "## 2) Dense linear algebra basics (`scipy.linalg`)\n",
        "We'll solve linear systems, compute determinants, inverses (and learn when **not** to),\n",
        "and use norms & condition numbers."
      ]
    },
    {
      "cell_type": "code",
      "execution_count": null,
      "metadata": {},
      "outputs": [],
      "source": [
        "# Toy system Ax = b\n",
        "A = np.array([[3., 2., -1.],\n",
        "              [2., -2., 4.],\n",
        "              [-1., 0.5, -1.]])\n",
        "b = np.array([1., -2., 0.])\n",
        "\n",
        "# Solve Ax=b\n",
        "x = LA.solve(A, b)\n",
        "x, np.allclose(A @ x, b)"
      ]
    },
    {
      "cell_type": "code",
      "execution_count": null,
      "metadata": {},
      "outputs": [],
      "source": [
        "# Determinant, inverse (avoid in practice), condition number, norms\n",
        "detA = LA.det(A)\n",
        "A_inv = LA.inv(A)  # for teaching/demo; prefer solve()\n",
        "condA = LA.cond(A)\n",
        "two_norm = LA.norm(A, 2)\n",
        "fro_norm = LA.norm(A, 'fro')\n",
        "detA, condA, two_norm, fro_norm"
      ]
    },
    {
      "cell_type": "markdown",
      "metadata": {},
      "source": [
        "## 3) Matrix factorizations\n",
        "Factorizations give numerically stable, reusable pieces to solve systems efficiently."
      ]
    },
    {
      "cell_type": "markdown",
      "metadata": {},
      "source": [
        "### 3.1 LU (for general square systems)"
      ]
    },
    {
      "cell_type": "code",
      "execution_count": null,
      "metadata": {},
      "outputs": [],
      "source": [
        "P, L, U = LA.lu(A)\n",
        "P, L, U, np.allclose(P @ A, L @ U)"
      ]
    },
    {
      "cell_type": "code",
      "execution_count": null,
      "metadata": {},
      "outputs": [],
      "source": [
        "# Using LU factor/solve for repeated right-hand sides\n",
        "lu, piv = LA.lu_factor(A)\n",
        "b1 = np.array([1., 0., 0.])\n",
        "b2 = np.array([0., 1., 0.])\n",
        "x1 = LA.lu_solve((lu, piv), b1)\n",
        "x2 = LA.lu_solve((lu, piv), b2)\n",
        "np.allclose(A @ x1, b1), np.allclose(A @ x2, b2)"
      ]
    },
    {
      "cell_type": "markdown",
      "metadata": {},
      "source": [
        "### 3.2 QR (least squares, orthogonalization)"
      ]
    },
    {
      "cell_type": "code",
      "execution_count": null,
      "metadata": {},
      "outputs": [],
      "source": [
        "M = np.array([[1., 1.], [1., -1.], [1., 2.]])  # 3x2\n",
        "y = np.array([2., 0., 3.])\n",
        "Q, R = LA.qr(M, mode='economic')\n",
        "beta = LA.solve_triangular(R, Q.T @ y)\n",
        "beta"
      ]
    },
    {
      "cell_type": "markdown",
      "metadata": {},
      "source": [
        "### 3.3 Cholesky (SPD matrices)"
      ]
    },
    {
      "cell_type": "code",
      "execution_count": null,
      "metadata": {},
      "outputs": [],
      "source": [
        "S = np.array([[4., 2.], [2., 3.]])  # symmetric positive definite\n",
        "L = LA.cholesky(S, lower=True)\n",
        "x = LA.cho_solve((L, True), np.array([1., 0.]))\n",
        "L, x, np.allclose(S @ x, np.array([1., 0.]))"
      ]
    },
    {
      "cell_type": "markdown",
      "metadata": {},
      "source": [
        "### 3.4 SVD (low-rank structure, pseudoinverse, PCA)"
      ]
    },
    {
      "cell_type": "code",
      "execution_count": null,
      "metadata": {},
      "outputs": [],
      "source": [
        "A2 = np.array([[1., 0., 0.], [0., 2., 0.], [0., 0., 0.5]]) @ np.random.randn(3, 5)\n",
        "U, s, Vh = LA.svd(A2, full_matrices=False)\n",
        "rank = np.sum(s > 1e-12)\n",
        "pinv = LA.pinv(A2)\n",
        "s, rank, pinv.shape"
      ]
    },
    {
      "cell_type": "markdown",
      "metadata": {},
      "source": [
        "## 4) Eigenvalues & eigenvectors (`eig`, `eigh`)"
      ]
    },
    {
      "cell_type": "code",
      "execution_count": null,
      "metadata": {},
      "outputs": [],
      "source": [
        "W, V = LA.eig(A)        # general (possibly non-symmetric)\n",
        "Ws, Vs = LA.eigh(S)      # symmetric/Hermitian\n",
        "W, Ws"
      ]
    },
    {
      "cell_type": "markdown",
      "metadata": {},
      "source": [
        "## 5) Least squares & conditioning"
      ]
    },
    {
      "cell_type": "code",
      "execution_count": null,
      "metadata": {},
      "outputs": [],
      "source": [
        "beta2, residuals, rnk, svals = LA.lstsq(M, y)  # via SVD under the hood\n",
        "condM = LA.cond(M)\n",
        "beta2, residuals, rnk, condM"
      ]
    },
    {
      "cell_type": "markdown",
      "metadata": {},
      "source": [
        "## 6) Matrix functions (`expm`, `logm`, `sqrtm`)\n",
        "Useful in differential equations, diffusion processes, and control."
      ]
    },
    {
      "cell_type": "code",
      "execution_count": null,
      "metadata": {},
      "outputs": [],
      "source": [
        "from scipy.linalg import expm, logm, sqrtm\n",
        "B = np.array([[0., 1.], [-2., -3.]])\n",
        "eB = expm(B)\n",
        "sB = sqrtm(S)\n",
        "# logm requires matrices with appropriate properties\n",
        "eB, sB"
      ]
    },
    {
      "cell_type": "markdown",
      "metadata": {},
      "source": [
        "## 7) Sparse matrices & solvers (`spsolve`, `cg`, `gmres`)"
      ]
    },
    {
      "cell_type": "code",
      "execution_count": null,
      "metadata": {},
      "outputs": [],
      "source": [
        "# Create a sparse SPD system (1D Laplacian)\n",
        "n = 10\n",
        "main = 2*np.ones(n)\n",
        "off = -1*np.ones(n-1)\n",
        "L1d = diags([off, main, off], [-1, 0, 1], format='csr')\n",
        "rhs = np.ones(n)\n",
        "\n",
        "x_spsolve = spsolve(L1d, rhs)\n",
        "x_cg, info_cg = cg(L1d, rhs, tol=1e-10)\n",
        "x_gm, info_gm = gmres(L1d, rhs, tol=1e-10)\n",
        "x_spsolve[:5], info_cg, info_gm"
      ]
    },
    {
      "cell_type": "code",
      "execution_count": null,
      "metadata": {},
      "outputs": [],
      "source": [
        "# Sparse eigen (largest magnitude / largest algebraic)\n",
        "k = 3\n",
        "vals, vecs = eigs(L1d, k=k)     # general sparse\n",
        "vals_sym, vecs_sym = eigsh(L1d, k=k)  # symmetric/Hermitian\n",
        "vals, vals_sym"
      ]
    },
    {
      "cell_type": "markdown",
      "metadata": {},
      "source": [
        "## 8) Practical tips & pitfalls\n",
        "- Prefer `solve` over forming explicit inverses.\n",
        "- Use problem structure: `cho_solve` for SPD, QR/SVD for least squares.\n",
        "- Check condition numbers; rescale or regularize ill-conditioned problems.\n",
        "- For large/sparse problems, prefer `spsolve`, `cg`, `gmres`, and preconditioning.\n",
        "- Use appropriate dtypes (`float64`) for numerical stability.\n"
      ]
    },
    {
      "cell_type": "markdown",
      "metadata": {},
      "source": [
        "## 9) Exercises\n",
        "1. **Repeated RHS**: Factorize a random 200\u00d7200 matrix with LU and solve for 3 different right-hand sides.\n",
        "2. **Cholesky vs LU**: Generate SPD matrices and compare solve performance/accuracy using `cho_solve` vs `lu_solve`.\n",
        "3. **Low-rank approximation**: For a random matrix, compute SVD and form the best rank-1 approximation. Measure the Frobenius error.\n",
        "4. **Least squares stability**: Compare solutions from normal equations (`(X^T X)^{-1} X^T y`) vs `lstsq` on a badly conditioned design matrix.\n",
        "5. **Sparse Poisson**: Build a 2D Laplacian with Kronecker sums, solve with `cg`, and experiment with different tolerances.\n"
      ]
    }
  ],
  "metadata": {
    "kernelspec": {
      "display_name": "Python 3",
      "language": "python",
      "name": "python3"
    },
    "language_info": {
      "name": "python",
      "version": "3.x",
      "mimetype": "text/x-python",
      "codemirror_mode": {
        "name": "ipython",
        "version": 3
      },
      "pygments_lexer": "ipython3",
      "nbconvert_exporter": "python",
      "file_extension": ".py"
    }
  },
  "nbformat": 4,
  "nbformat_minor": 5
}